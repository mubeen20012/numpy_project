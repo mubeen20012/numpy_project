{
  "nbformat": 4,
  "nbformat_minor": 0,
  "metadata": {
    "colab": {
      "provenance": []
    },
    "kernelspec": {
      "name": "python3",
      "display_name": "Python 3"
    },
    "language_info": {
      "name": "python"
    }
  },
  "cells": [
    {
      "cell_type": "code",
      "execution_count": null,
      "metadata": {
        "colab": {
          "base_uri": "https://localhost:8080/"
        },
        "id": "ginK-Afm-b-6",
        "outputId": "f2ec9880-0354-42e2-9c01-7729c181d247"
      },
      "outputs": [
        {
          "output_type": "stream",
          "name": "stdout",
          "text": [
            "[[86 50 90]\n",
            " [71 58 85]\n",
            " [ 1  1 27]\n",
            " [ 3 23 51]\n",
            " [13 17 35]\n",
            " [99 58 37]\n",
            " [76 58 22]\n",
            " [71 56  6]\n",
            " [43 81 33]\n",
            " [ 2 36 72]]\n",
            "[86 50 90]\n",
            "[90 85 27 51 35 37 22  6 33 72]\n",
            "1361\n",
            "45.36666666666667\n",
            "99\n",
            "[[ 91  55  95]\n",
            " [ 76  63  90]\n",
            " [  6   6  32]\n",
            " [  8  28  56]\n",
            " [ 18  22  40]\n",
            " [104  63  42]\n",
            " [ 81  63  27]\n",
            " [ 76  61  11]\n",
            " [ 48  86  38]\n",
            " [  7  41  77]]\n",
            "[86 90 71 85 99 76 71 81 72]\n",
            "[[86 71  1  3 13 99 76 71 43  2]\n",
            " [50 58  1 23 17 58 58 56 81 36]\n",
            " [90 85 27 51 35 37 22  6 33 72]]\n",
            "[[86 50 90 24]\n",
            " [71 58 85 13]\n",
            " [ 1  1 27 43]\n",
            " [ 3 23 51 14]\n",
            " [13 17 35  2]\n",
            " [99 58 37 76]\n",
            " [76 58 22 24]\n",
            " [71 56  6 10]\n",
            " [43 81 33 86]\n",
            " [ 2 36 72 69]]\n",
            "[[86 50 90 24]\n",
            " [71 58 85 13]\n",
            " [ 1  1 27 43]\n",
            " [ 3 23 51 14]\n",
            " [13 17 35  2]]\n",
            "[[99 58 37 76]\n",
            " [76 58 22 24]\n",
            " [71 56  6 10]\n",
            " [43 81 33 86]\n",
            " [ 2 36 72 69]]\n",
            "[[71 58 85 13]\n",
            " [13 17 35  2]\n",
            " [76 58 22 24]]\n",
            "[72 85 90]\n"
          ]
        }
      ],
      "source": [
        "import numpy as np\n",
        "student=np.random.randint(0,100,size=(10,3))\n",
        "print(student)\n",
        "print(student[0])\n",
        "print(student[:,-1])\n",
        "#🔹 Step 2 – Basic Stats (Day 2)\n",
        "print(student.sum())\n",
        "print(student.mean())\n",
        "print(student.max())\n",
        "print(student + 5)\n",
        "print(student[student >70])\n",
        "print(student .T)\n",
        "computer=np.random.randint(0,100,size=(10,1))\n",
        "student=np.hstack((student,computer))\n",
        "print(student)\n",
        "group1,group2=np.split(student,2)\n",
        "print(group1)\n",
        "print(group2)\n",
        "np.select= student[[1,4,6]]\n",
        "print(np.select)\n",
        "english=student[:,2]\n",
        "print(np.sort(english)[-3:])\n",
        "\n",
        "\n",
        "\n",
        "\n"
      ]
    },
    {
      "cell_type": "markdown",
      "source": [
        "#📝 Day 1 Project: Student Marks Manager (Arrays & Indexing)"
      ],
      "metadata": {
        "id": "ijjk5fq1JZq6"
      }
    },
    {
      "cell_type": "code",
      "source": [
        "student=np.random.randint(0,100,size=(5,3))\n",
        "print(student)\n",
        "print(student[0])\n",
        "print(student[-1])\n",
        "print(student[:,1])\n",
        "print(student[:3])\n",
        "print(student[-2:])\n",
        "print(student[2,1])\n",
        "student[2,1]=10\n",
        "print(student)\"\"\"\n",
        "\"\"\"computer=np.random.randint(0,100,size=(5,1))\n",
        "print(computer)\n",
        "student=np.hstack((student,computer))\n",
        "print(student)\"\"\"\n",
        "\"\"\"print(student[2,:])\n",
        "print(student[2,1])\n",
        "print(student[:2])\n",
        "print(student[:,-2:])\n",
        "print(student[1:3,1:3])\n",
        "print(student.sum())\n",
        "print(student.mean())\n",
        "print(student.max())\n",
        "print(student.min())\n",
        "print(student.sum(axis=0))\n",
        "print(student[:5].mean())\n",
        "group1,group2=np.split(student,2)\n",
        "print(group1)\n",
        "print(group1)\n",
        "\n",
        "\n",
        "\n",
        "\n",
        "\n",
        "\n",
        "\n",
        "\n",
        "\n"
      ],
      "metadata": {
        "colab": {
          "base_uri": "https://localhost:8080/",
          "height": 211
        },
        "id": "RCpluxOlH-86",
        "outputId": "03fea49b-0700-4022-b434-2ac5f12a40c7"
      },
      "execution_count": null,
      "outputs": [
        {
          "output_type": "error",
          "ename": "NameError",
          "evalue": "name 'np' is not defined",
          "traceback": [
            "\u001b[0;31m---------------------------------------------------------------------------\u001b[0m",
            "\u001b[0;31mNameError\u001b[0m                                 Traceback (most recent call last)",
            "\u001b[0;32m/tmp/ipython-input-662444105.py\u001b[0m in \u001b[0;36m<cell line: 0>\u001b[0;34m()\u001b[0m\n\u001b[0;32m----> 1\u001b[0;31m \u001b[0mstudent\u001b[0m\u001b[0;34m=\u001b[0m\u001b[0mnp\u001b[0m\u001b[0;34m.\u001b[0m\u001b[0mrandom\u001b[0m\u001b[0;34m.\u001b[0m\u001b[0mrandint\u001b[0m\u001b[0;34m(\u001b[0m\u001b[0;36m0\u001b[0m\u001b[0;34m,\u001b[0m\u001b[0;36m100\u001b[0m\u001b[0;34m,\u001b[0m\u001b[0msize\u001b[0m\u001b[0;34m=\u001b[0m\u001b[0;34m(\u001b[0m\u001b[0;36m5\u001b[0m\u001b[0;34m,\u001b[0m\u001b[0;36m3\u001b[0m\u001b[0;34m)\u001b[0m\u001b[0;34m)\u001b[0m\u001b[0;34m\u001b[0m\u001b[0;34m\u001b[0m\u001b[0m\n\u001b[0m\u001b[1;32m      2\u001b[0m \"\"\"print(student)\n\u001b[1;32m      3\u001b[0m \u001b[0mprint\u001b[0m\u001b[0;34m(\u001b[0m\u001b[0mstudent\u001b[0m\u001b[0;34m[\u001b[0m\u001b[0;36m0\u001b[0m\u001b[0;34m]\u001b[0m\u001b[0;34m)\u001b[0m\u001b[0;34m\u001b[0m\u001b[0;34m\u001b[0m\u001b[0m\n\u001b[1;32m      4\u001b[0m \u001b[0mprint\u001b[0m\u001b[0;34m(\u001b[0m\u001b[0mstudent\u001b[0m\u001b[0;34m[\u001b[0m\u001b[0;34m-\u001b[0m\u001b[0;36m1\u001b[0m\u001b[0;34m]\u001b[0m\u001b[0;34m)\u001b[0m\u001b[0;34m\u001b[0m\u001b[0;34m\u001b[0m\u001b[0m\n\u001b[1;32m      5\u001b[0m \u001b[0mprint\u001b[0m\u001b[0;34m(\u001b[0m\u001b[0mstudent\u001b[0m\u001b[0;34m[\u001b[0m\u001b[0;34m:\u001b[0m\u001b[0;34m,\u001b[0m\u001b[0;36m1\u001b[0m\u001b[0;34m]\u001b[0m\u001b[0;34m)\u001b[0m\u001b[0;34m\u001b[0m\u001b[0;34m\u001b[0m\u001b[0m\n",
            "\u001b[0;31mNameError\u001b[0m: name 'np' is not defined"
          ]
        }
      ]
    },
    {
      "cell_type": "code",
      "source": [],
      "metadata": {
        "id": "QlHf1yRXN_uq"
      },
      "execution_count": null,
      "outputs": []
    }
  ]
}