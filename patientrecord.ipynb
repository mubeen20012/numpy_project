{
  "nbformat": 4,
  "nbformat_minor": 0,
  "metadata": {
    "colab": {
      "provenance": []
    },
    "kernelspec": {
      "name": "python3",
      "display_name": "Python 3"
    },
    "language_info": {
      "name": "python"
    }
  },
  "cells": [
    {
      "cell_type": "code",
      "execution_count": null,
      "metadata": {
        "colab": {
          "base_uri": "https://localhost:8080/"
        },
        "id": "dThhxkpw88tj",
        "outputId": "081eb1b6-3ec5-4249-9ba6-6390d785f7c1"
      },
      "outputs": [
        {
          "output_type": "stream",
          "name": "stdout",
          "text": [
            "[[26 32 75 45]\n",
            " [23 79 61 21]\n",
            " [22 39 35 41]\n",
            " [46 74 65 73]\n",
            " [43 27 31 20]\n",
            " [35 23 54 48]\n",
            " [72 65 67 25]\n",
            " [70 70 33 37]\n",
            " [26 54 64 30]\n",
            " [55 33 76 21]\n",
            " [27 62 71 70]\n",
            " [78 50 79 30]\n",
            " [68 45 50 35]\n",
            " [74 74 49 66]\n",
            " [20 55 77 63]]\n",
            "[[26 32 75 45 41]\n",
            " [23 79 61 21 53]\n",
            " [22 39 35 41 32]\n",
            " [46 74 65 73 66]\n",
            " [43 27 31 20 69]\n",
            " [35 23 54 48 55]\n",
            " [72 65 67 25 68]\n",
            " [70 70 33 37 28]\n",
            " [26 54 64 30 54]\n",
            " [55 33 76 21 71]\n",
            " [27 62 71 70 64]\n",
            " [78 50 79 30 48]\n",
            " [68 45 50 35 64]\n",
            " [74 74 49 66 32]\n",
            " [20 55 77 63 75]]\n",
            "[[26 32 75 45 41]\n",
            " [23 79 61 21 53]\n",
            " [22 39 35 41 32]\n",
            " [46 74 65 73 66]\n",
            " [43 27 31 20 69]\n",
            " [35 23 54 48 55]\n",
            " [72 65 67 25 68]\n",
            " [70 70 33 37 28]\n",
            " [26 54 64 30 54]\n",
            " [55 33 76 21 71]\n",
            " [27 62 71 70 64]\n",
            " [78 50 79 30 48]\n",
            " [68 45 50 35 64]\n",
            " [74 74 49 66 32]\n",
            " [20 55 77 63 75]\n",
            " [31 70 60 67 55]]\n",
            "[15 10  3]\n"
          ]
        }
      ],
      "source": [
        "import numpy as np\n",
        "patient=np.random.randint(20,80, size=(15,4))\n",
        "print(patient)\n",
        "print(patient.shape)\n",
        "print(patient.size)\n",
        "print(patient.ndim)\n",
        "print(patient.dtype)\n",
        "print(patient[0])\n",
        "print(patient[:,-3])\n",
        "print(patient[:1,:1])\n",
        "print(patient[2,1])\n",
        "print(patient[:,3])\n",
        "print(patient[-3:])\n",
        "\n",
        "print(patient[:,-3:])\n",
        "print(patient[1:3,1:3])\n",
        "#Print the first patient’s record.\n",
        "print(patient[0])\n",
        "#Print all patient ages.\n",
        "print(patient[:,0])\n",
        "#Slice the last 5 patients.\n",
        "print(patient[-5:])\n",
        "#Extract a sub-matrix: patients 5–8, only BP & Cholesterol.\n",
        "print(patient[1:5,1:8])\n",
        "#Find the average age of patients.\n",
        "avg_age=patient[:,0].mean()\n",
        "print(avg_age)\n",
        "bp=patient[:,1].max()\n",
        "print(bp)\n",
        "total_chl=patient[:,2].sum()\n",
        "print(total_chl)\n",
        "print(patient.sum(axis=0))\n",
        "print(patient.sum(axis=1))\n",
        "\n",
        " # Add +5 to all heart rates (as if a measurement correction).\n",
        "heart=patient[:,3]\n",
        "print(heart + 5)\n",
        "#Find patients with BP > 140.\n",
        "bp=patient[:,1]\n",
        "print(bp)\n",
        "print(bp[bp>40])\"\"\"\n",
        "\"\"\"Cholesterol=patient[:,2]\n",
        "print(Cholesterol)\n",
        "print(Cholesterol[Cholesterol < 200])\n",
        "older=patient[:,0] >60\n",
        "print(older)\n",
        "patient[older,1] +=10\n",
        "print(patient)\n",
        "print(patient.T)\n",
        "BMI=np.random.randint(20,80, size=(15,1))\n",
        "patient=np.hstack((patient,BMI))\n",
        "print(patient)\n",
        "new=np.random.randint(20,80,size=(1,5))\n",
        "patient=np.vstack((patient,new))\n",
        "print(patient)\n",
        "#Split the patients into two groups (first 7, next 8).\n",
        "group1=patient[:7, :]\n",
        "group2=patient[7:, :]\n",
        "print(group1)\n",
        "print(group2)\n",
        "group1,group2=np.split(patient,2)\n",
        "print(group1)\n",
        "print(group2)\n",
        "\n",
        "patient[[2, 5, 10, 12], :]\n",
        "print(patient)\n",
        "heart_rate=patient[:,3]\n",
        "sorted=np.argsort(heart_rate)\n",
        "top=sorted[-3:]\n",
        "print(top)\n",
        "\n",
        "\n",
        "\n",
        "\n",
        "\n",
        "\n",
        "\n",
        "\n"
      ]
    },
    {
      "cell_type": "code",
      "source": [
        "print(patient[0])\n",
        "print(patient[2])\n",
        "print(patient[:,3])\n",
        "print(patient[:,-2:])\n",
        "print(patient[-3:])\n",
        "print(patient[1:3,1:3])\n",
        "print(patient[:2,:2])\n",
        "\n",
        "\n"
      ],
      "metadata": {
        "colab": {
          "base_uri": "https://localhost:8080/"
        },
        "id": "4S6N1ohG_9gg",
        "outputId": "89903e53-f4fb-4789-b19e-930687071e34"
      },
      "execution_count": null,
      "outputs": [
        {
          "output_type": "stream",
          "name": "stdout",
          "text": [
            "[49 33 38 52]\n",
            "[71 60 55 39]\n",
            "[52 50 39 75 54 20 45 78 24 50 21 37 34 39 34]\n",
            "[[38 52]\n",
            " [71 50]\n",
            " [55 39]\n",
            " [67 75]\n",
            " [44 54]\n",
            " [76 20]\n",
            " [67 45]\n",
            " [57 78]\n",
            " [68 24]\n",
            " [65 50]\n",
            " [32 21]\n",
            " [47 37]\n",
            " [39 34]\n",
            " [76 39]\n",
            " [46 34]]\n",
            "[[68 63 39 34]\n",
            " [69 57 76 39]\n",
            " [71 34 46 34]]\n",
            "[[38 71]\n",
            " [60 55]]\n",
            "[[49 33]\n",
            " [21 38]]\n"
          ]
        }
      ]
    },
    {
      "cell_type": "code",
      "source": [
        "#Find patients with BP > 140.\n",
        "bp=patient[:,1]\n",
        "print(bp)\n",
        "print(bp[bp>40])"
      ],
      "metadata": {
        "colab": {
          "base_uri": "https://localhost:8080/"
        },
        "id": "J7K7621AF6q7",
        "outputId": "00eefe6d-dc18-4d65-852d-a9bd21dd7d50"
      },
      "execution_count": null,
      "outputs": [
        {
          "output_type": "stream",
          "name": "stdout",
          "text": [
            "[23 78 76 70 39 49 51 78 21 60 40 68 25 51 40]\n",
            "[78 76 70 49 51 78 60 68 51]\n"
          ]
        }
      ]
    }
  ]
}