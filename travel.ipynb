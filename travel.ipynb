{
  "nbformat": 4,
  "nbformat_minor": 0,
  "metadata": {
    "colab": {
      "provenance": []
    },
    "kernelspec": {
      "name": "python3",
      "display_name": "Python 3"
    },
    "language_info": {
      "name": "python"
    }
  },
  "cells": [
    {
      "cell_type": "code",
      "source": [
        "import numpy as np\n",
        "trip=np.random.randint(50,500,size=(20,5))\n",
        "print(trip)\n",
        "\n",
        "print(trip.shape)\n",
        "print(trip.size)\n",
        "print(trip.ndim)\n",
        "print(trip.dtype)\n",
        "print(trip[5])\n",
        "print(trip[:5])\n",
        "print(trip[:,-2:])\n",
        "print(trip[:,-3:])\n",
        "print(trip[:,-0])\n",
        "print(trip[5:10,1])\n",
        "print(trip[:,0])\n",
        "print(trip[-4:,3:5])\n",
        "avg_distance=trip[:,0].mean()\n",
        "print(avg_distance)\n",
        "high=trip[:,2].max()\n",
        "print(high)\n",
        "cost=trip[:,3].sum()\n",
        "print(cost)\n",
        "rating=trip[:,4].min()\n",
        "print(rating)\n",
        "print(trip.sum(axis=1))\n",
        "print(trip.sum(axis=0))\n",
        "distance=trip[:,0]\n",
        "print(trip[distance >300])\n",
        "rating=trip[:,4]\n",
        "print(trip[rating <3])\n",
        "duration=trip[:,1]\n",
        "increase=trip[duration >5]\n",
        "print(increase)\n",
        "print(increase + 20)\n",
        "fuel=trip[:,2]\n",
        "rating=trip[:,4]\n",
        "cond1= fuel < 100\n",
        "cond2= rating >4\n",
        "print(trip[cond1 & cond2])\n",
        "distance=trip[:, 0]\n",
        "print(distance + 10)\n",
        "duration=trip[:,1]\n",
        "print(duration * 60)\n",
        "rating=trip[:,4]\n",
        "print(rating/5)\n",
        "driver_age=np.random.randint(25,60,size=(20,1))\n",
        "print(driver_age)\n",
        "print(np.hstack((trip,driver_age)))\n",
        "new_row=np.random.randint(50,500,size=(1,5))\n",
        "print(np.vstack((new_row,trip)))\n",
        "print(trip.shape)\n",
        "trip_new=np.vstack((trip,new_row))\n",
        "print(trip_new.shape)\n",
        "group1,group2=np.split(trip,2)\n",
        "print(group1)\n",
        "print(group2)\n",
        "cost=trip[:,3]\n",
        "print(np.sort(cost))\n",
        "rating=trip[:,4]\n",
        "top_3=np.argsort(rating)[-3:]\n",
        "print(top_3)\n",
        "selected_trip=trip[[2, 7, 15],:]\n",
        "print(selected_trip)\n",
        "cond=trip[:,0]\n",
        "high=trip[:,2]\n",
        "efficiency=cond/high\n",
        "print(efficiency)\n",
        "best_index=efficiency.argmax()\n",
        "print(best_index)\n",
        "print(trip[best_index])"
      ],
      "metadata": {
        "colab": {
          "base_uri": "https://localhost:8080/"
        },
        "id": "2-MKeKzlKkt9",
        "outputId": "227be8c7-16dd-4af4-98da-e801705e792b"
      },
      "execution_count": null,
      "outputs": [
        {
          "output_type": "stream",
          "name": "stdout",
          "text": [
            "[303 343 326 154 420]\n",
            "[109 141 485 246 149 156 417  75 398 400  95 288 235 464 316 196 122 218\n",
            " 203 470]\n",
            "[[ 73 433]\n",
            " [302 457]\n",
            " [372 203]\n",
            " [304 249]]\n"
          ]
        }
      ]
    },
    {
      "cell_type": "code",
      "source": [
        "\n",
        "\n"
      ],
      "metadata": {
        "colab": {
          "base_uri": "https://localhost:8080/"
        },
        "id": "cz7OnmDCLjKQ",
        "outputId": "8cec6912-9670-4533-a4d5-2e41be6e3764"
      },
      "execution_count": 73,
      "outputs": [
        {
          "output_type": "stream",
          "name": "stdout",
          "text": [
            "[0.28684211 0.30718954 0.97389558 2.7032967  1.12030075 2.22857143\n",
            " 1.49462366 0.24115756 7.80392157 1.45985401 0.37254902 1.87012987\n",
            " 0.47188755 0.9626556  0.95180723 0.60122699 0.55454545 0.46382979\n",
            " 0.80555556 0.95918367]\n",
            "8\n",
            "[398 154  51 320 231]\n"
          ]
        }
      ]
    }
  ]
}