{
  "nbformat": 4,
  "nbformat_minor": 0,
  "metadata": {
    "colab": {
      "provenance": []
    },
    "kernelspec": {
      "name": "python3",
      "display_name": "Python 3"
    },
    "language_info": {
      "name": "python"
    }
  },
  "cells": [
    {
      "cell_type": "code",
      "execution_count": null,
      "metadata": {
        "id": "2zBH8NTnQ9k1"
      },
      "outputs": [],
      "source": [
        "import numpy as np"
      ]
    },
    {
      "cell_type": "markdown",
      "source": [
        "#First step we have to do that is creating array"
      ],
      "metadata": {
        "id": "oJ80zB-uSwX3"
      }
    },
    {
      "cell_type": "code",
      "source": [
        "array=np.array([1,2,3,4,5,6])\n",
        "print(array)"
      ],
      "metadata": {
        "colab": {
          "base_uri": "https://localhost:8080/"
        },
        "id": "nAhrIPK6Sve0",
        "outputId": "f30e4f4b-d2ae-495f-9db5-6ead4d6e35e5"
      },
      "execution_count": null,
      "outputs": [
        {
          "output_type": "stream",
          "name": "stdout",
          "text": [
            "[1 2 3 4 5 6]\n"
          ]
        }
      ]
    },
    {
      "cell_type": "code",
      "source": [
        "zero_array=np.zeros((2,3))\n",
        "print(zero_array)"
      ],
      "metadata": {
        "colab": {
          "base_uri": "https://localhost:8080/"
        },
        "id": "0N7xKd3KTa2W",
        "outputId": "e4f49b41-5b85-48ee-f130-d251a9f559b3"
      },
      "execution_count": null,
      "outputs": [
        {
          "output_type": "stream",
          "name": "stdout",
          "text": [
            "[[0. 0. 0.]\n",
            " [0. 0. 0.]]\n"
          ]
        }
      ]
    },
    {
      "cell_type": "code",
      "source": [
        "one_array=np.ones((2,3))\n",
        "print(one_array)"
      ],
      "metadata": {
        "colab": {
          "base_uri": "https://localhost:8080/"
        },
        "id": "kxvQ_gzWUgSs",
        "outputId": "6aaa02c5-cc91-4538-a80f-b0a8303aba01"
      },
      "execution_count": null,
      "outputs": [
        {
          "output_type": "stream",
          "name": "stdout",
          "text": [
            "[[1. 1. 1.]\n",
            " [1. 1. 1.]]\n"
          ]
        }
      ]
    },
    {
      "cell_type": "code",
      "source": [
        "range_array=np.arange(0,10,2)\n",
        "print(range_array)"
      ],
      "metadata": {
        "colab": {
          "base_uri": "https://localhost:8080/"
        },
        "id": "qZYSA6JjUukX",
        "outputId": "d356f88d-dd4e-4105-83bf-e074def5810c"
      },
      "execution_count": null,
      "outputs": [
        {
          "output_type": "stream",
          "name": "stdout",
          "text": [
            "[0 2 4 6 8]\n"
          ]
        }
      ]
    },
    {
      "cell_type": "code",
      "source": [
        "linespace_array=np.linspace(0,10,5)\n",
        "print(linespace_array)\n"
      ],
      "metadata": {
        "colab": {
          "base_uri": "https://localhost:8080/"
        },
        "id": "QsgCLY0pVAIS",
        "outputId": "39622c71-318f-4984-ae40-46d197e23a1e"
      },
      "execution_count": null,
      "outputs": [
        {
          "output_type": "stream",
          "name": "stdout",
          "text": [
            "[ 0.   2.5  5.   7.5 10. ]\n"
          ]
        }
      ]
    },
    {
      "cell_type": "code",
      "source": [
        "import numpy as np\n",
        "array=np.array([1,2,3,4,5,6])\n",
        "print(array)\n",
        "zero_array=np.zeros((3,4))\n",
        "print(zero_array)\n",
        "ones_array=np.ones((4,6))\n",
        "print(ones_array)\n",
        "range_array=np.arange(0,10,3)\n",
        "print(range_array)\n",
        "linespace_array=np.linspace(0,1,5)\n",
        "print(linespace_array)\n",
        "print(array.shape)\n",
        "print(array.dtype)\n",
        "print(array.ndim)\n",
        "print(array.size)\n",
        "print(array[0])\n",
        "print(array[-5:])\n",
        "print(array[2:5])\n",
        "#modify an element\n",
        "array[0]=10\n",
        "print(array)\n",
        "ones_array[1,2] =10\n",
        "print(ones_array)\n",
        "\n",
        "\n",
        "\n"
      ],
      "metadata": {
        "colab": {
          "base_uri": "https://localhost:8080/"
        },
        "id": "AkWP6mGCVo-Y",
        "outputId": "eae0b982-611f-410c-b7ff-40e33aa7c9c6"
      },
      "execution_count": null,
      "outputs": [
        {
          "output_type": "stream",
          "name": "stdout",
          "text": [
            "[1 2 3 4 5 6]\n",
            "[[0. 0. 0. 0.]\n",
            " [0. 0. 0. 0.]\n",
            " [0. 0. 0. 0.]]\n",
            "[[1. 1. 1. 1. 1. 1.]\n",
            " [1. 1. 1. 1. 1. 1.]\n",
            " [1. 1. 1. 1. 1. 1.]\n",
            " [1. 1. 1. 1. 1. 1.]]\n",
            "[0 3 6 9]\n",
            "[0.   0.25 0.5  0.75 1.  ]\n",
            "(6,)\n",
            "int64\n",
            "1\n",
            "6\n",
            "1\n",
            "[2 3 4 5 6]\n",
            "[3 4 5]\n",
            "[10  2  3  4  5  6]\n",
            "[[ 1.  1.  1.  1.  1.  1.]\n",
            " [ 1.  1. 10.  1.  1.  1.]\n",
            " [ 1.  1.  1.  1.  1.  1.]\n",
            " [ 1.  1.  1.  1.  1.  1.]]\n"
          ]
        }
      ]
    },
    {
      "cell_type": "code",
      "source": [
        "print(ones_array[:2,:3])"
      ],
      "metadata": {
        "colab": {
          "base_uri": "https://localhost:8080/"
        },
        "id": "iXd0ZE2Navae",
        "outputId": "3f9061d6-768b-4271-e7bd-8c0715032c3e"
      },
      "execution_count": null,
      "outputs": [
        {
          "output_type": "stream",
          "name": "stdout",
          "text": [
            "[[ 1.  1.  1.]\n",
            " [ 1.  1. 10.]]\n"
          ]
        }
      ]
    },
    {
      "cell_type": "code",
      "source": [
        "arr3=np.ones((3,3))\n",
        "arr3[1,1]=99\n",
        "print(arr3)"
      ],
      "metadata": {
        "colab": {
          "base_uri": "https://localhost:8080/"
        },
        "id": "-VfAAnwCbZuZ",
        "outputId": "5680f52f-8551-420b-81cb-ef7d6f42b774"
      },
      "execution_count": null,
      "outputs": [
        {
          "output_type": "stream",
          "name": "stdout",
          "text": [
            "[[ 1.  1.  1.]\n",
            " [ 1. 99.  1.]\n",
            " [ 1.  1.  1.]]\n"
          ]
        }
      ]
    },
    {
      "cell_type": "markdown",
      "source": [
        "#practice exercise of day 1\n"
      ],
      "metadata": {
        "id": "ENivZvTJhCM0"
      }
    },
    {
      "cell_type": "code",
      "source": [
        "#practice Exercise Day1\n",
        "import numpy as np\n",
        "number=np.arange(10,60,10)\n",
        "print(number)\n",
        "zero_arr=np.zeros((3,3))\n",
        "print(zero_arr)\n",
        "ones_arr=np.ones((4,5))\n",
        "print(ones_arr)\n",
        "num=np.arange(0,15)\n",
        "print(num)\n",
        "line=np.linspace(0,1,5)\n",
        "print(line)\n",
        "#Arrays Properties\n",
        "print(number.shape)\n",
        "print(number.size)\n",
        "print(number.ndim)\n",
        "print(number.dtype)\n",
        "#3️⃣ Indexing & Slicing\n",
        "print(number[:1])\n",
        "print(number[-1:])\n",
        "print(number[2:4])\n",
        "#Create a 3x3 2D array and access the middle element.\n",
        "array=np.array([[1,2,3],[4,5,6],[7,8,9]])\n",
        "print(array)\n",
        "print(array[1,1])\n",
        "print(array[2:2])\n",
        "array=np.array([[1,2,3],[4,5,6],[7,8,9],[10,11,12]])\n",
        "print(array)\n",
        "print(array[1,1])\n",
        "print(array[:2,:2])\n",
        "#5️⃣ Mini Challenge\n",
        "#Create a 3x3 array of ones and change the middle element to 10.\n",
        "array=np.ones((3,3))\n",
        "print(array)\n",
        "array[1,1]=10\n",
        "print(array)\n",
        "arr=np.arange(1,11)\n",
        "print(arr)\n",
        "print(arr[arr>5])\n",
        "array=np.array([[1,2,3],[4,5,6],[7,8,9],[10,11,12]])\n",
        "print(array)\n",
        "print(array[:2,:2])\n",
        "array=np.random.randint(1,20,size=(4,4))\n",
        "print(array)\n",
        "print(array[:2,:2])\n",
        "\n",
        "\n",
        "\n"
      ],
      "metadata": {
        "colab": {
          "base_uri": "https://localhost:8080/"
        },
        "id": "9na2HmUEhFNU",
        "outputId": "72f49fcf-25c4-4452-acf3-15d13439de26"
      },
      "execution_count": null,
      "outputs": [
        {
          "output_type": "stream",
          "name": "stdout",
          "text": [
            "[10 20 30 40 50]\n",
            "[[0. 0. 0.]\n",
            " [0. 0. 0.]\n",
            " [0. 0. 0.]]\n",
            "[[1. 1. 1. 1. 1.]\n",
            " [1. 1. 1. 1. 1.]\n",
            " [1. 1. 1. 1. 1.]\n",
            " [1. 1. 1. 1. 1.]]\n",
            "[ 0  1  2  3  4  5  6  7  8  9 10 11 12 13 14]\n",
            "[0.   0.25 0.5  0.75 1.  ]\n",
            "(5,)\n",
            "5\n",
            "1\n",
            "int64\n",
            "[10]\n",
            "[50]\n",
            "[30 40]\n"
          ]
        }
      ]
    },
    {
      "cell_type": "markdown",
      "source": [
        "#Day2"
      ],
      "metadata": {
        "id": "9Y_rzrMPpEoM"
      }
    },
    {
      "cell_type": "markdown",
      "source": [
        "#Numpy Operation And Statistics"
      ],
      "metadata": {
        "id": "eJhbULgUpIeT"
      }
    },
    {
      "cell_type": "code",
      "source": [
        "a=np.array([1,2,3,4])\n",
        "b=np.array([2,4,5,8])\n",
        "\"\"\"c= a + b\n",
        "print(c)\"\"\"\n",
        "print(a + b)\n",
        "print(a - b)\n",
        "print(a * b)\n",
        "print(a / b)\n",
        "#2️⃣ Aggregate Functions (Basic Statistics)\n",
        "x=np.array([1,2,3,4,5,6])\n",
        "print(x.sum())\n",
        "print(x.mean())\n",
        "print(x.max())\n",
        "print(x.min())\n",
        "print(x.std())\n",
        "print(x.var())\n",
        "#3️⃣ Axis in 2D Arrays\n",
        "arr=np.array([[1,2,3],[4,5,6]])\n",
        "print(arr)\n",
        "print(arr.sum())\n",
        "print(arr.sum(axis=0))\n",
        "print(arr.sum(axis=1))\n",
        "#4️⃣ Broadcasting (Important)\n",
        "x=np.array([1,2,3,4,5,6])\n",
        "print(x+10)\n",
        "row=np.array([1,2,3,7,8,9])\n",
        "print(x + row)\n",
        "\n",
        "\n",
        "\n",
        "\n",
        "\n",
        "\n",
        "\n",
        "\n",
        "\n"
      ],
      "metadata": {
        "colab": {
          "base_uri": "https://localhost:8080/"
        },
        "id": "I17Q9w9zhxci",
        "outputId": "8f929acb-aef9-4df5-a69c-9bfcb7dfb939"
      },
      "execution_count": null,
      "outputs": [
        {
          "output_type": "stream",
          "name": "stdout",
          "text": [
            "[ 3  6  8 12]\n",
            "[-1 -2 -2 -4]\n",
            "[ 2  8 15 32]\n",
            "[0.5 0.5 0.6 0.5]\n",
            "21\n",
            "3.5\n",
            "6\n",
            "1\n",
            "1.707825127659933\n",
            "2.9166666666666665\n",
            "[[1 2 3]\n",
            " [4 5 6]]\n",
            "21\n",
            "[5 7 9]\n",
            "[ 6 15]\n",
            "[11 12 13 14 15 16]\n",
            "[ 2  4  6 11 13 15]\n",
            "[ 3  7 11 15]\n",
            "[1 1 1 1]\n",
            "[ 2 12 30 56]\n",
            "[2.         1.33333333 1.2        1.14285714]\n",
            "[      2      64    7776 2097152]\n"
          ]
        }
      ]
    },
    {
      "cell_type": "markdown",
      "source": [],
      "metadata": {
        "id": "LEQAeBNsqazN"
      }
    },
    {
      "cell_type": "code",
      "source": [
        "#practice\n",
        "a = np.array([2, 4, 6, 8])\n",
        "b = np.array([1, 3, 5, 7])\n",
        "print(a + b)\n",
        "print(a - b)\n",
        "print(a * b)\n",
        "print(a / b)\n",
        "print(a ** b)\n",
        "x = np.array([10, 15, 20, 25, 30])\n",
        "print(x.sum())\n",
        "print(x.mean())\n",
        "print(x.max())\n",
        "print(x.min())\n",
        "print(x.std())\n",
        "print(x.var())\n",
        "arr = np.array([[5, 10, 15],\n",
        "                [20, 25, 30],\n",
        "                [35, 40, 45]])\n",
        "print(arr.sum())\n",
        "print(arr.sum(axis=0))\n",
        "print(arr.sum(axis=1))\n",
        "print(arr.mean(axis=1))"
      ],
      "metadata": {
        "colab": {
          "base_uri": "https://localhost:8080/"
        },
        "id": "X0q6MTajlw2y",
        "outputId": "be10ae36-e141-40e1-86e8-35e9ccff5a28"
      },
      "execution_count": null,
      "outputs": [
        {
          "output_type": "stream",
          "name": "stdout",
          "text": [
            "[ 3  7 11 15]\n",
            "[1 1 1 1]\n",
            "[ 2 12 30 56]\n",
            "[2.         1.33333333 1.2        1.14285714]\n",
            "[      2      64    7776 2097152]\n",
            "100\n",
            "20.0\n",
            "30\n",
            "10\n",
            "7.0710678118654755\n",
            "50.0\n",
            "225\n",
            "[60 75 90]\n",
            "[ 30  75 120]\n",
            "[10. 25. 40.]\n"
          ]
        }
      ]
    },
    {
      "cell_type": "markdown",
      "source": [
        "#Day3"
      ],
      "metadata": {
        "id": "AOQwbFhl2Ly4"
      }
    },
    {
      "cell_type": "markdown",
      "source": [
        "#🔄 NumPy Revision – Day 1 + Day 2"
      ],
      "metadata": {
        "id": "-Oli9zJp2Q0Z"
      }
    },
    {
      "cell_type": "markdown",
      "source": [
        "#1️⃣ Array Creation & Basics (Day 1)"
      ],
      "metadata": {
        "id": "UIUZ0VlI2UFE"
      }
    },
    {
      "cell_type": "code",
      "source": [
        "\"\"\"arr1=np.arange(10,50,10)\n",
        "print(arr1)\"\"\"\n",
        "arr1=np.arange(10,60,10)\n",
        "print(arr1)\n",
        "zero=np.zeros((3,3))\n",
        "print(zero)\n"
      ],
      "metadata": {
        "id": "AGjE7qwdtcEI",
        "colab": {
          "base_uri": "https://localhost:8080/"
        },
        "outputId": "1070d6fb-fccc-4054-f7bc-003895749089"
      },
      "execution_count": null,
      "outputs": [
        {
          "output_type": "stream",
          "name": "stdout",
          "text": [
            "[10 20 30 40 50]\n",
            "[[0. 0. 0.]\n",
            " [0. 0. 0.]\n",
            " [0. 0. 0.]]\n"
          ]
        }
      ]
    },
    {
      "cell_type": "code",
      "source": [
        "\n",
        "\"\"\"\n",
        "zero=np.zeros((3,3))\n",
        "print(zero)\n",
        "one=np.ones((3,3))\n",
        "print(one)\n",
        "arr1=np.arange(0,15)\n",
        "print(arr1)\n",
        "line=np.linspace(0,1,5)\n",
        "print(line)\n",
        "#properties\n",
        "print(arr1.shape)\n",
        "print(arr1.size)\n",
        "print(arr1.ndim)\n",
        "print(arr1.dtype)\"\"\"\n",
        "#indexing and slicing\n",
        "\"\"\"arr1=np.arange(10,60,10)\n",
        "print(arr1[1])\n",
        "print(arr1[3])\n",
        "print(arr1[-1:])\n",
        "print(arr1[2:5])\"\"\"\n",
        "\"\"\"one=np.ones((3,3))\n",
        "print(one)\n",
        "print(one[1,1])\n",
        "one[1,1]=10\n",
        "print(one)\"\"\"\n",
        "#2️⃣ Array Operations & Statistics (Day 2)\n",
        "\"\"\"arr = np.array([[5, 10, 15],\n",
        "                [20, 25, 30],\n",
        "                [35, 40, 45]])\n",
        "print(arr.sum())\n",
        "print(arr.sum(axis=0))\n",
        "print(arr.sum(axis=1))\n",
        "print(arr.mean())\n",
        "\"\"\"\n",
        "\"\"\"arr1=np.arange(10,60,10)\n",
        "print(arr1)\n",
        "print(arr1.max())\n",
        "print(arr1.min())\n",
        "print(arr1.mean())\n",
        "print(arr1.var())\n",
        "print(arr1.std())\"\"\"\n",
        "\"\"\"array=np.random.randint(1,10,size=(4,4))\n",
        "print(array)\n",
        "print(array.shape)\n",
        "print(array.size)\n",
        "print(array.ndim)\n",
        "print(array.dtype)\n",
        "print(array.sum())\n",
        "print(array.mean())\n",
        "print(array.sum(axis=0))\n",
        "print(array.max(axis=1))\n",
        "#mathmatics operation\n",
        "print(array.max())\n",
        "print(array.min())\n",
        "print(array.mean())\n",
        "print(array.var())\n",
        "print(array.std())\n",
        "print(array[1])\n",
        "print(array[-1:])\n",
        "print(array[:1])\n",
        "print(array[2,1])\n",
        "print(array[:2,:3])\n",
        "array[1,1] =10\n",
        "print(array)\"\"\"\n",
        "arr=np.arange(1,13)\n",
        "print(f\"Original Array: {arr}\")\n",
        "reshaped_arr=arr.reshape(3,4)\n",
        "print(f\"Reshaped Array: {reshaped_arr}\")\n",
        "array=np.arange(1,21)\n",
        "print(array)\n",
        "bool=array[array >10]\n",
        "print(bool)\n",
        "\n"
      ],
      "metadata": {
        "colab": {
          "base_uri": "https://localhost:8080/"
        },
        "id": "nZWP7Edd3dWi",
        "outputId": "939629cd-320b-4777-fa96-53f3c22dbec8"
      },
      "execution_count": null,
      "outputs": [
        {
          "output_type": "stream",
          "name": "stdout",
          "text": [
            "Original Array: [ 1  2  3  4  5  6  7  8  9 10 11 12]\n",
            "Reshaped Array: [[ 1  2  3  4]\n",
            " [ 5  6  7  8]\n",
            " [ 9 10 11 12]]\n",
            "[ 1  2  3  4  5  6  7  8  9 10 11 12 13 14 15 16 17 18 19 20]\n",
            "[11 12 13 14 15 16 17 18 19 20]\n"
          ]
        }
      ]
    },
    {
      "cell_type": "markdown",
      "source": [
        "#📘 Day 3 – Broadcasting & Advanced Operations"
      ],
      "metadata": {
        "id": "9zHlxQpC_4DM"
      }
    },
    {
      "cell_type": "code",
      "source": [
        "import numpy as np\n",
        "arr=np.array([1,2,3])\n",
        "print(arr +5)\n",
        "mat = np.array([[1, 2, 3],\n",
        "                [4, 5, 6]])\n",
        "print(mat + np.array([10,20,30]))\n",
        "a= np.array([1,2,3])\n",
        "b= np.array([3,8,9])\n",
        "print(a + b)\n",
        "print(a - b)\n",
        "print(a * b)\n",
        "print(a / b)\n",
        "print(a ** b)\n",
        "mat = np.array([[1, 2],\n",
        "                [3, 4]])\n",
        "\n",
        "print(\"Transpose:\\n\", mat.T)\n",
        "a = np.array([[1, 2],\n",
        "              [3, 4]])\n",
        "b = np.array([[5, 6],\n",
        "              [7, 8]])\n",
        "print(\"Dot product:\\n\", np.dot(a, b))\n",
        "\"\"\"array= np.arange(1,10)\n",
        "print(array)\n",
        "reshape=array.reshape(3,3)\n",
        "print(reshape)\n",
        "arr=np.array([1,2,3])\n",
        "print(arr + 10)\n",
        "print(arr * 10)\n",
        "\"\"\"\n",
        "array=np.random.randint(1,10,size=(4,4))\n",
        "print(array)\n",
        "print(f\"Transpose:\\n {array.T}\")\n",
        "arr= array[array >6]\n",
        "print(arr)\n"
      ],
      "metadata": {
        "colab": {
          "base_uri": "https://localhost:8080/"
        },
        "id": "P1-ih6Wi_5o6",
        "outputId": "7764d894-3c05-473c-f2a6-8b2c47ad4afe"
      },
      "execution_count": null,
      "outputs": [
        {
          "output_type": "stream",
          "name": "stdout",
          "text": [
            "[6 7 8]\n",
            "[[11 22 33]\n",
            " [14 25 36]]\n",
            "[ 4 10 12]\n",
            "[-2 -6 -6]\n",
            "[ 3 16 27]\n",
            "[0.33333333 0.25       0.33333333]\n",
            "[    1   256 19683]\n"
          ]
        }
      ]
    },
    {
      "cell_type": "markdown",
      "source": [
        "#📑 Day 3 – Practice Exercises"
      ],
      "metadata": {
        "id": "pz3_E32iEFer"
      }
    },
    {
      "cell_type": "code",
      "source": [
        "#Q1. Broadcasting\n",
        "array=np.array([1,2,3,4,5])\n",
        "print(array + 100)\n",
        "#Create a 2D array of shape (3,3) filled with numbers 1–9. Add [10,20,30] to each row.\n",
        "arr=np.arange(1,10).reshape(3,3)\n",
        "print(arr)\n",
        "print(arr + np.array([2,3,4]))"
      ],
      "metadata": {
        "colab": {
          "base_uri": "https://localhost:8080/"
        },
        "id": "kEvcFQusBUri",
        "outputId": "5a934e71-407a-4398-8dc3-affdb1486d4f"
      },
      "execution_count": null,
      "outputs": [
        {
          "output_type": "stream",
          "name": "stdout",
          "text": [
            "[101 102 103 104 105]\n",
            "[[1 2 3]\n",
            " [4 5 6]\n",
            " [7 8 9]]\n",
            "[[ 3  5  7]\n",
            " [ 6  8 10]\n",
            " [ 9 11 13]]\n"
          ]
        }
      ]
    },
    {
      "cell_type": "markdown",
      "source": [
        "#📑 Day 3 – Practice Exercises"
      ],
      "metadata": {
        "id": "N-wo-QmmbHTG"
      }
    },
    {
      "cell_type": "code",
      "source": [
        "import numpy as np\n",
        "\"\"\"array=np.array([1,2,3,4,5])\n",
        "print(array + 100)\n",
        "arr=np.random.randint(1,10, size=(3,3))\n",
        "print(arr + np.array([10,20,30]))\"\"\"\n",
        "\"\"\"a = np.array([2, 4, 6])\n",
        "b = np.array([1, 3, 5])\n",
        "print(a + b)\n",
        "print(a - b)\n",
        "print(a * b)\n",
        "print(a / b)\n",
        "print(a ** b)\"\"\"\n",
        "\"\"\"arr=np.random.randint(1,7, size=(2,2))\n",
        "print(arr.T)\"\"\"\n",
        "\"\"\"A = [[1,2],\n",
        "     [3,4]]\n",
        "B = [[5,6],\n",
        "     [7,8]]\n",
        "print(np.dot(A,B))\"\"\"\n",
        "\"\"\"array=np.random.randint(1,10,size=(3,3))\n",
        "arr= (array .T)\n",
        "print(np.dot(array,arr))\"\"\"\n",
        "arr=np.arange(1,50,20)\n",
        "print(arr)\n",
        "print(arr >25)\n",
        "array=arr[arr>25]\n",
        "print(array)\n",
        "\n"
      ],
      "metadata": {
        "colab": {
          "base_uri": "https://localhost:8080/"
        },
        "id": "6McXBvPrB1X7",
        "outputId": "365c97db-1067-46dc-9c97-335501fb4bab"
      },
      "execution_count": null,
      "outputs": [
        {
          "output_type": "stream",
          "name": "stdout",
          "text": [
            "[ 1 21 41]\n",
            "[False False  True]\n",
            "[41]\n"
          ]
        }
      ]
    },
    {
      "cell_type": "markdown",
      "source": [
        "#day 4"
      ],
      "metadata": {
        "id": "MadXJQPX6AZT"
      }
    },
    {
      "cell_type": "code",
      "source": [
        "#1️⃣ Stacking Arrays\n",
        "\"\"\"import numpy as np\n",
        "a=np.array([1,2,3])\n",
        "b=np.array([4,5,6])\n",
        "print(\"Horizontal Stack:\",np.hstack([a,b]))\n",
        "print(\"Vertical Stack:\",np.vstack([a,b]))\"\"\"\n",
        "#2️⃣ Splitting Arrays\n",
        "\"\"\"arr=np.arange(1,10).reshape(3,3)\n",
        "print(arr)\n",
        "print(np.hsplit(arr,3))\n",
        "print(np.vsplit(arr,3))\"\"\"\n",
        "#print(np.hsplit(arr,3))\n",
        "#3️⃣ Fancy Indexing\n",
        "\"\"\"arr=np.array([10,20,30,40,50])\n",
        "indexes=[0,2,4]\n",
        "print(arr[indexes])\"\"\"\n",
        "\"\"\"mat = np.arange(1, 10).reshape(3, 3)\n",
        "print(\"Matrix:\\n\", mat)\n",
        "print(\"Select (0,0), (1,1), (2,2):\", mat[[0, 1, 2], [0, 1, 2]])\n",
        "\"\"\"\n",
        "#4️⃣ Real-world Mini Practice\n",
        "marks=np.array([23,45,67,89,34,53,37])\n",
        "print(marks[marks >50])\n",
        "print(np.sort(marks)[-3:])\n",
        "\n",
        "\n",
        "\n"
      ],
      "metadata": {
        "colab": {
          "base_uri": "https://localhost:8080/"
        },
        "id": "ZA3Zty8P5_iL",
        "outputId": "c8c7949b-9a47-4834-8e85-17293606b42a"
      },
      "execution_count": null,
      "outputs": [
        {
          "output_type": "stream",
          "name": "stdout",
          "text": [
            "[67 89 53]\n",
            "[53 67 89]\n"
          ]
        }
      ]
    }
  ]
}